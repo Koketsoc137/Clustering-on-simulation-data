{
 "cells": [
  {
   "cell_type": "code",
   "execution_count": 61,
   "id": "fb65ca79-2fb4-40d7-a21b-0ad66eb5eadf",
   "metadata": {},
   "outputs": [],
   "source": [
    "import hdbscan\n",
    "import umap\n",
    "from sklearn import metrics\n",
    "import matplotlib.pyplot as plt\n",
    "import numpy as np\n",
    "import pickle\n",
    "from sklearn.decomposition import PCA"
   ]
  },
  {
   "cell_type": "code",
   "execution_count": 62,
   "id": "e275996c-a4af-4766-828b-ea6bb4d1f364",
   "metadata": {},
   "outputs": [],
   "source": [
    "#Load data\n",
    "labels = np.load('Simulations\\labels_test.npy')\n",
    "dataset =  np.load('Simulations\\y_test.npy')\n",
    "a = range(1,100)"
   ]
  },
  {
   "cell_type": "code",
   "execution_count": 89,
   "id": "bef00297-8e94-468c-958d-58772d3f4aea",
   "metadata": {},
   "outputs": [],
   "source": [
    "#Functions\n",
    "\n",
    "def reduce(dataset,n_components):\n",
    "    pca = PCA(n_components=n_components,\n",
    "              copy=True,\n",
    "              whiten=False,\n",
    "              svd_solver='arpack',\n",
    "              tol=0.0, iterated_power='auto',\n",
    "             )\n",
    "    pca = pca.fit(dataset)\n",
    "\n",
    "    #plt.ylabel('Variance')\n",
    "    #plt.xlabel('Principal Components')\n",
    "    #plt.plot(a,pca.explained_variance_ratio_)\n",
    "    #plt.show()\n",
    "      \n",
    "    return pca.transform(dataset)\n",
    "\n",
    "def Similarity_index(reduced_data,labels):\n",
    "    \n",
    "    \n",
    "    hd = hdbscan.HDBSCAN(algorithm='best', alpha=1.0, approx_min_span_tree=True,\n",
    "    gen_min_span_tree=False, leaf_size=40,\n",
    "    metric='euclidean', min_cluster_size=50, min_samples=30)\n",
    "    \n",
    "    hd.fit(reduced_data)\n",
    "\n",
    "    \"\"\"from sklearn.cluster import MeanShift\n",
    "    ms = MeanShift( bandwidth=50,\n",
    "               seeds=None, #Default seed finding functions scale horribly with dimensions\n",
    "               bin_seeding=True, #True implies initial windows are not on all points/inccurate but faster\n",
    "               min_bin_freq=1,\n",
    "               cluster_all=False, #Unclustered outcasts points will be labelled -1\n",
    "               n_jobs=-1,\n",
    "               max_iter=None,\n",
    "              )\n",
    "    ms=ms.fit_predict(reduced_data)\"\"\"\n",
    "    \n",
    "    \n",
    "    similarity = metrics.rand_score(hd.labels_,labels)\n",
    "    \n",
    "    return similarity"
   ]
  },
  {
   "cell_type": "code",
   "execution_count": 94,
   "id": "94bf7ae7-d75a-4778-be16-768d32e53988",
   "metadata": {},
   "outputs": [
    {
     "name": "stdout",
     "output_type": "stream",
     "text": [
      "[-7.40818561 -0.66900889  0.24083916 -0.61015303 -0.07119894]\n",
      "[-7.40818561 -0.66900889  0.24083916 -0.61015303 -0.07119894]\n"
     ]
    }
   ],
   "source": [
    "reduced = reduce(dataset,5)\n",
    "reduced2 = reduce(dataset,5)\n",
    "print(reduced[5])\n",
    "print(reduced2[5])"
   ]
  },
  {
   "cell_type": "code",
   "execution_count": 95,
   "id": "a65690de-0b5f-4735-b061-5c1d4ee2e975",
   "metadata": {},
   "outputs": [
    {
     "name": "stdout",
     "output_type": "stream",
     "text": [
      "0.744137317946359 1\n",
      "0.744137317946359 2\n",
      "0.744137317946359 3\n",
      "0.744137317946359 4\n",
      "0.744137317946359 5\n",
      "0.744137317946359 6\n",
      "0.744137317946359 7\n",
      "0.744137317946359 8\n",
      "0.744137317946359 9\n",
      "0.744137317946359 10\n",
      "0.744137317946359 11\n",
      "0.744137317946359 12\n",
      "0.744137317946359 13\n",
      "0.744137317946359 14\n",
      "0.744137317946359 15\n",
      "0.744137317946359 16\n",
      "0.744137317946359 17\n",
      "0.744137317946359 18\n",
      "0.744137317946359 19\n",
      "0.744137317946359 20\n",
      "0.744137317946359 21\n",
      "0.744137317946359 22\n",
      "0.744137317946359 23\n",
      "0.744137317946359 24\n",
      "0.744137317946359 25\n",
      "0.744137317946359 26\n",
      "0.744137317946359 27\n",
      "0.744137317946359 28\n",
      "0.744137317946359 29\n",
      "0.744137317946359 30\n",
      "0.744137317946359 31\n",
      "0.744137317946359 32\n",
      "0.744137317946359 33\n",
      "0.744137317946359 34\n",
      "0.744137317946359 35\n",
      "0.744137317946359 36\n",
      "0.744137317946359 37\n",
      "0.744137317946359 38\n",
      "0.744137317946359 39\n",
      "0.744137317946359 40\n",
      "0.744137317946359 41\n",
      "0.744137317946359 42\n",
      "0.744137317946359 43\n",
      "0.744137317946359 44\n",
      "0.744137317946359 45\n"
     ]
    },
    {
     "ename": "KeyboardInterrupt",
     "evalue": "",
     "output_type": "error",
     "traceback": [
      "\u001b[1;31m---------------------------------------------------------------------------\u001b[0m",
      "\u001b[1;31mKeyboardInterrupt\u001b[0m                         Traceback (most recent call last)",
      "\u001b[1;32m~\\AppData\\Local\\Temp/ipykernel_9792/1068782105.py\u001b[0m in \u001b[0;36m<module>\u001b[1;34m\u001b[0m\n\u001b[0;32m      1\u001b[0m \u001b[0mindeces\u001b[0m \u001b[1;33m=\u001b[0m \u001b[1;33m[\u001b[0m\u001b[1;33m]\u001b[0m\u001b[1;33m\u001b[0m\u001b[1;33m\u001b[0m\u001b[0m\n\u001b[0;32m      2\u001b[0m \u001b[1;32mfor\u001b[0m \u001b[0mdimension\u001b[0m \u001b[1;32min\u001b[0m \u001b[0mrange\u001b[0m\u001b[1;33m(\u001b[0m\u001b[1;36m1\u001b[0m\u001b[1;33m,\u001b[0m\u001b[1;36m60\u001b[0m\u001b[1;33m)\u001b[0m\u001b[1;33m:\u001b[0m\u001b[1;33m\u001b[0m\u001b[1;33m\u001b[0m\u001b[0m\n\u001b[1;32m----> 3\u001b[1;33m     \u001b[0mindex\u001b[0m \u001b[1;33m=\u001b[0m \u001b[0mSimilarity_index\u001b[0m\u001b[1;33m(\u001b[0m\u001b[0mreduced\u001b[0m\u001b[1;33m[\u001b[0m\u001b[1;33m:\u001b[0m\u001b[1;33m,\u001b[0m\u001b[1;36m0\u001b[0m\u001b[1;33m:\u001b[0m\u001b[1;36m6\u001b[0m\u001b[1;33m]\u001b[0m\u001b[1;33m,\u001b[0m\u001b[0mlabels\u001b[0m\u001b[1;33m)\u001b[0m\u001b[1;33m\u001b[0m\u001b[1;33m\u001b[0m\u001b[0m\n\u001b[0m\u001b[0;32m      4\u001b[0m     \u001b[0mprint\u001b[0m\u001b[1;33m(\u001b[0m\u001b[0mindex\u001b[0m\u001b[1;33m,\u001b[0m\u001b[0mdimension\u001b[0m\u001b[1;33m)\u001b[0m\u001b[1;33m\u001b[0m\u001b[1;33m\u001b[0m\u001b[0m\n\u001b[0;32m      5\u001b[0m     \u001b[0mindeces\u001b[0m\u001b[1;33m.\u001b[0m\u001b[0mappend\u001b[0m\u001b[1;33m(\u001b[0m\u001b[0mindex\u001b[0m\u001b[1;33m)\u001b[0m\u001b[1;33m\u001b[0m\u001b[1;33m\u001b[0m\u001b[0m\n",
      "\u001b[1;32m~\\AppData\\Local\\Temp/ipykernel_9792/1581790117.py\u001b[0m in \u001b[0;36mSimilarity_index\u001b[1;34m(reduced_data, labels)\u001b[0m\n\u001b[0;32m     24\u001b[0m     metric='euclidean', min_cluster_size=50, min_samples=30)\n\u001b[0;32m     25\u001b[0m \u001b[1;33m\u001b[0m\u001b[0m\n\u001b[1;32m---> 26\u001b[1;33m     \u001b[0mhd\u001b[0m\u001b[1;33m.\u001b[0m\u001b[0mfit\u001b[0m\u001b[1;33m(\u001b[0m\u001b[0mreduced_data\u001b[0m\u001b[1;33m)\u001b[0m\u001b[1;33m\u001b[0m\u001b[1;33m\u001b[0m\u001b[0m\n\u001b[0m\u001b[0;32m     27\u001b[0m \u001b[1;33m\u001b[0m\u001b[0m\n\u001b[0;32m     28\u001b[0m     \"\"\"from sklearn.cluster import MeanShift\n",
      "\u001b[1;32m~\\anaconda3\\lib\\site-packages\\hdbscan\\hdbscan_.py\u001b[0m in \u001b[0;36mfit\u001b[1;34m(self, X, y)\u001b[0m\n\u001b[0;32m    917\u001b[0m          \u001b[0mself\u001b[0m\u001b[1;33m.\u001b[0m\u001b[0m_condensed_tree\u001b[0m\u001b[1;33m,\u001b[0m\u001b[1;33m\u001b[0m\u001b[1;33m\u001b[0m\u001b[0m\n\u001b[0;32m    918\u001b[0m          \u001b[0mself\u001b[0m\u001b[1;33m.\u001b[0m\u001b[0m_single_linkage_tree\u001b[0m\u001b[1;33m,\u001b[0m\u001b[1;33m\u001b[0m\u001b[1;33m\u001b[0m\u001b[0m\n\u001b[1;32m--> 919\u001b[1;33m          self._min_spanning_tree) = hdbscan(X, **kwargs)\n\u001b[0m\u001b[0;32m    920\u001b[0m \u001b[1;33m\u001b[0m\u001b[0m\n\u001b[0;32m    921\u001b[0m         \u001b[1;32mif\u001b[0m \u001b[0mself\u001b[0m\u001b[1;33m.\u001b[0m\u001b[0mprediction_data\u001b[0m\u001b[1;33m:\u001b[0m\u001b[1;33m\u001b[0m\u001b[1;33m\u001b[0m\u001b[0m\n",
      "\u001b[1;32m~\\anaconda3\\lib\\site-packages\\hdbscan\\hdbscan_.py\u001b[0m in \u001b[0;36mhdbscan\u001b[1;34m(X, min_cluster_size, min_samples, alpha, cluster_selection_epsilon, metric, p, leaf_size, algorithm, memory, approx_min_span_tree, gen_min_span_tree, core_dist_n_jobs, cluster_selection_method, allow_single_cluster, match_reference_implementation, **kwargs)\u001b[0m\n\u001b[0;32m    608\u001b[0m                                            gen_min_span_tree, **kwargs)\n\u001b[0;32m    609\u001b[0m             \u001b[1;32melse\u001b[0m\u001b[1;33m:\u001b[0m\u001b[1;33m\u001b[0m\u001b[1;33m\u001b[0m\u001b[0m\n\u001b[1;32m--> 610\u001b[1;33m                 (single_linkage_tree, result_min_span_tree) = memory.cache(\n\u001b[0m\u001b[0;32m    611\u001b[0m                     \u001b[0m_hdbscan_boruvka_kdtree\u001b[0m\u001b[1;33m)\u001b[0m\u001b[1;33m(\u001b[0m\u001b[0mX\u001b[0m\u001b[1;33m,\u001b[0m \u001b[0mmin_samples\u001b[0m\u001b[1;33m,\u001b[0m \u001b[0malpha\u001b[0m\u001b[1;33m,\u001b[0m\u001b[1;33m\u001b[0m\u001b[1;33m\u001b[0m\u001b[0m\n\u001b[0;32m    612\u001b[0m                                              \u001b[0mmetric\u001b[0m\u001b[1;33m,\u001b[0m \u001b[0mp\u001b[0m\u001b[1;33m,\u001b[0m \u001b[0mleaf_size\u001b[0m\u001b[1;33m,\u001b[0m\u001b[1;33m\u001b[0m\u001b[1;33m\u001b[0m\u001b[0m\n",
      "\u001b[1;32m~\\anaconda3\\lib\\site-packages\\joblib\\memory.py\u001b[0m in \u001b[0;36m__call__\u001b[1;34m(self, *args, **kwargs)\u001b[0m\n\u001b[0;32m    347\u001b[0m \u001b[1;33m\u001b[0m\u001b[0m\n\u001b[0;32m    348\u001b[0m     \u001b[1;32mdef\u001b[0m \u001b[0m__call__\u001b[0m\u001b[1;33m(\u001b[0m\u001b[0mself\u001b[0m\u001b[1;33m,\u001b[0m \u001b[1;33m*\u001b[0m\u001b[0margs\u001b[0m\u001b[1;33m,\u001b[0m \u001b[1;33m**\u001b[0m\u001b[0mkwargs\u001b[0m\u001b[1;33m)\u001b[0m\u001b[1;33m:\u001b[0m\u001b[1;33m\u001b[0m\u001b[1;33m\u001b[0m\u001b[0m\n\u001b[1;32m--> 349\u001b[1;33m         \u001b[1;32mreturn\u001b[0m \u001b[0mself\u001b[0m\u001b[1;33m.\u001b[0m\u001b[0mfunc\u001b[0m\u001b[1;33m(\u001b[0m\u001b[1;33m*\u001b[0m\u001b[0margs\u001b[0m\u001b[1;33m,\u001b[0m \u001b[1;33m**\u001b[0m\u001b[0mkwargs\u001b[0m\u001b[1;33m)\u001b[0m\u001b[1;33m\u001b[0m\u001b[1;33m\u001b[0m\u001b[0m\n\u001b[0m\u001b[0;32m    350\u001b[0m \u001b[1;33m\u001b[0m\u001b[0m\n\u001b[0;32m    351\u001b[0m     \u001b[1;32mdef\u001b[0m \u001b[0mcall_and_shelve\u001b[0m\u001b[1;33m(\u001b[0m\u001b[0mself\u001b[0m\u001b[1;33m,\u001b[0m \u001b[1;33m*\u001b[0m\u001b[0margs\u001b[0m\u001b[1;33m,\u001b[0m \u001b[1;33m**\u001b[0m\u001b[0mkwargs\u001b[0m\u001b[1;33m)\u001b[0m\u001b[1;33m:\u001b[0m\u001b[1;33m\u001b[0m\u001b[1;33m\u001b[0m\u001b[0m\n",
      "\u001b[1;32m~\\anaconda3\\lib\\site-packages\\hdbscan\\hdbscan_.py\u001b[0m in \u001b[0;36m_hdbscan_boruvka_kdtree\u001b[1;34m(X, min_samples, alpha, metric, p, leaf_size, approx_min_span_tree, gen_min_span_tree, core_dist_n_jobs, **kwargs)\u001b[0m\n\u001b[0;32m    287\u001b[0m         \u001b[1;32mreturn\u001b[0m \u001b[0msingle_linkage_tree\u001b[0m\u001b[1;33m,\u001b[0m \u001b[0mmin_spanning_tree\u001b[0m\u001b[1;33m\u001b[0m\u001b[1;33m\u001b[0m\u001b[0m\n\u001b[0;32m    288\u001b[0m     \u001b[1;32melse\u001b[0m\u001b[1;33m:\u001b[0m\u001b[1;33m\u001b[0m\u001b[1;33m\u001b[0m\u001b[0m\n\u001b[1;32m--> 289\u001b[1;33m         \u001b[1;32mreturn\u001b[0m \u001b[0msingle_linkage_tree\u001b[0m\u001b[1;33m,\u001b[0m \u001b[1;32mNone\u001b[0m\u001b[1;33m\u001b[0m\u001b[1;33m\u001b[0m\u001b[0m\n\u001b[0m\u001b[0;32m    290\u001b[0m \u001b[1;33m\u001b[0m\u001b[0m\n\u001b[0;32m    291\u001b[0m \u001b[1;33m\u001b[0m\u001b[0m\n",
      "\u001b[1;31mKeyboardInterrupt\u001b[0m: "
     ]
    }
   ],
   "source": [
    "indeces = []\n",
    "for dimension in range(1,60):\n",
    "    index = Similarity_index(reduced[:,0:6],labels)\n",
    "    print(index,dimension)\n",
    "    indeces.append(index)"
   ]
  },
  {
   "cell_type": "code",
   "execution_count": 65,
   "id": "e91a58fb-043b-4072-a823-29ba1aa9542f",
   "metadata": {},
   "outputs": [],
 
  },
  {
   "cell_type": "code",
   "execution_count": 66,
   "id": "998389c1-8449-417c-959e-3d82eba44e22",
   "metadata": {},
   "outputs": [
    {
     "data": {
      "image/png": "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\n",
      "text/plain": [
       "<Figure size 432x288 with 1 Axes>"
      ]
     },
     "metadata": {
      "needs_background": "light"
     },
     "output_type": "display_data"
    },
    {
     "name": "stdout",
     "output_type": "stream",
     "text": [
      "0.8693885277705554\n"
     ]
    }
   ],
   "source": [
    "#plt.plot(a,indecec)\n",
    "plt.plot(range(1,60),indeces)\n",
    "plt.title(\"HDBSCAN over varying Principal Components\")\n",
    "plt.ylabel('Similarity Index')\n",
    "plt.xlabel('Principal Components')\n",
    "plt.show()\n",
    "print(np.array(indeces).max())"
   ]
  }
 ],
 "metadata": {
  "kernelspec": {
   "display_name": "Python 3 (ipykernel)",
   "language": "python",
   "name": "python3"
  },
  "language_info": {
   "codemirror_mode": {
    "name": "ipython",
    "version": 3
   },
   "file_extension": ".py",
   "mimetype": "text/x-python",
   "name": "python",
   "nbconvert_exporter": "python",
   "pygments_lexer": "ipython3",
   "version": "3.9.7"
  }
 },
 "nbformat": 4,
 "nbformat_minor": 5
}
